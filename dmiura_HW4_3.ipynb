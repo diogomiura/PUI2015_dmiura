{
 "cells": [
  {
   "cell_type": "code",
   "execution_count": 4,
   "metadata": {
    "collapsed": false
   },
   "outputs": [
    {
     "name": "stdout",
     "output_type": "stream",
     "text": [
      "Populating the interactive namespace from numpy and matplotlib\n"
     ]
    }
   ],
   "source": [
    "#Importing packages\n",
    "\n",
    "import pylab as pl\n",
    "import pandas as pd\n",
    "import numpy as np\n",
    "%pylab inline\n",
    "import os\n",
    "import scipy.stats"
   ]
  },
  {
   "cell_type": "code",
   "execution_count": 3,
   "metadata": {
    "collapsed": false
   },
   "outputs": [
    {
     "name": "stdout",
     "output_type": "stream",
     "text": [
      "5162141\n",
      "3193337\n"
     ]
    }
   ],
   "source": [
    "#SS = Spring/Summer & FW = Fall/Winter\n",
    "#Concatenating files \n",
    "\n",
    "SS_months = ['201503', '201504', '201505', '201506', '201507', '201508']\n",
    "FW_months = ['201409', '201410', '201411', '201412', '201501', '201502']\n",
    "Year_months = SS_months + FW_months\n",
    "\n",
    "SS_files = []\n",
    "FW_files = []\n",
    "Year_files = []\n",
    "\n",
    "SS_df = pd.DataFrame()\n",
    "FW_df = pd.DataFrame()\n",
    "Year_df = pd.DataFrame()\n",
    "\n",
    "for SS_month in SS_months:\n",
    "    SS_path ='~/Downloads/PUI2015_fbianco-master/citibikes/%s-citibike-tripdata.csv' % SS_month\n",
    "    SS_frame = pd.read_csv(SS_path)\n",
    "    SS_files.append(SS_frame)\n",
    "SS_df = pd.concat(SS_files, ignore_index=True)\n",
    "\n",
    "for FW_month in FW_months:\n",
    "    FW_path ='~/Downloads/PUI2015_fbianco-master/citibikes/%s-citibike-tripdata.csv' % FW_month\n",
    "    FW_frame = pd.read_csv(FW_path)\n",
    "    FW_files.append(FW_frame)\n",
    "FW_df = pd.concat(FW_files, ignore_index=True)\n",
    "\n",
    "for Year_month in Year_months:\n",
    "    Year_path ='~/Downloads/PUI2015_fbianco-master/citibikes/%s-citibike-tripdata.csv' % Year_month\n",
    "    Year_frame = pd.read_csv(Year_path)\n",
    "    Year_files.append(Year_frame)\n",
    "Year_df = pd.concat(Year_files, ignore_index=True)\n",
    "\n",
    "print(len(SS_df.index))\n",
    "print(len(FW_df.index))"
   ]
  },
  {
   "cell_type": "code",
   "execution_count": 11,
   "metadata": {
    "collapsed": false
   },
   "outputs": [],
   "source": [
    "#Separating population by age\n",
    "\n",
    "SS_df['age'] = 2015-SS_df['birth year'][(SS_df['usertype'] == 'Subscriber')]\n",
    "FW_df['age'] = 2015-FW_df['birth year'][(SS_df['usertype'] == 'Subscriber')]\n",
    "Year_df['age'] = 2015-Year_df['birth year'][(Year_df['usertype'] == 'Subscriber')]"
   ]
  },
  {
   "cell_type": "markdown",
   "metadata": {},
   "source": [
    "#K-S Test"
   ]
  },
  {
   "cell_type": "code",
   "execution_count": 17,
   "metadata": {
    "collapsed": false
   },
   "outputs": [
    {
     "name": "stdout",
     "output_type": "stream",
     "text": [
      "Spring-Summer, Normal fit KstestResult(statistic=1.0, pvalue=0.0)\n",
      "Fall-Winter, Normal fit KstestResult(statistic=1.0, pvalue=0.0)\n",
      "Year, Normal fit KstestResult(statistic=1.0, pvalue=0.0)\n",
      "Spring-Summer, Cauchy fit KstestResult(statistic=0.98103989934622393, pvalue=0.0)\n",
      "Fall-Winter, Cauchy fit KstestResult(statistic=0.98126437344222561, pvalue=0.0)\n",
      "Year, Cauchy fit KstestResult(statistic=0.98126437344222561, pvalue=0.0)\n"
     ]
    }
   ],
   "source": [
    "SS_ks=scipy.stats.kstest(SS_df.age[~np.isnan(SS_df.age)], 'norm')\n",
    "FW_ks=scipy.stats.kstest(FW_df.age[~np.isnan(FW_df.age)], 'norm')\n",
    "Year_ks=scipy.stats.kstest(Year_df.age[~np.isnan(Year_df.age)], 'norm')\n",
    "\n",
    "p_SS_ks=scipy.stats.kstest(SS_df.age[~np.isnan(SS_df.age)], 'cauchy')\n",
    "p_FW_ks=scipy.stats.kstest(FW_df.age[~np.isnan(FW_df.age)], 'cauchy')\n",
    "p_Year_ks=scipy.stats.kstest(Year_df.age[~np.isnan(Year_df.age)], 'cauchy')\n",
    "\n",
    "print \"Spring-Summer, Normal fit\", SS_ks\n",
    "print \"Fall-Winter, Normal fit\", FW_ks\n",
    "print \"Year, Normal fit\", FW_ks\n",
    "\n",
    "print \"Spring-Summer, Cauchy fit\", p_SS_ks\n",
    "print \"Fall-Winter, Cauchy fit\", p_FW_ks\n",
    "print \"Year, Cauchy fit\", p_FW_ks"
   ]
  },
  {
   "cell_type": "markdown",
   "metadata": {},
   "source": [
    "At a 5% alpha, we can reject the null hypothesis that the distribution follows either a Normal or a Cauchy distribution (pvalue=0 for all tests). I would also say than the both distributions are equally bad fits for the citibike distribution."
   ]
  },
  {
   "cell_type": "markdown",
   "metadata": {},
   "source": [
    "#Anderson Test"
   ]
  },
  {
   "cell_type": "code",
   "execution_count": 16,
   "metadata": {
    "collapsed": false
   },
   "outputs": [
    {
     "name": "stdout",
     "output_type": "stream",
     "text": [
      "Spring-Summer, Normal fit 63259.3440651\n",
      "Fall-Winter, Normal fit 31909.2269935\n",
      "Year, Normal fit 99869.1571637\n",
      "Spring-Summer, Logistic fit 59714.2247147\n",
      "Fall-Winter, Logistic fit 31061.4873268\n",
      "Year, Logistic fit 95451.7978292\n"
     ]
    }
   ],
   "source": [
    "SS_ad=scipy.stats.anderson(SS_df.age[~np.isnan(SS_df.age)], 'norm')\n",
    "FW_ad=scipy.stats.anderson(FW_df.age[~np.isnan(FW_df.age)], 'norm')\n",
    "Year_ad=scipy.stats.anderson(Year_df.age[~np.isnan(Year_df.age)], 'norm')\n",
    "\n",
    "p_SS_ad=scipy.stats.anderson(SS_df.age[~np.isnan(SS_df.age)], 'logistic')\n",
    "p_FW_ad=scipy.stats.anderson(FW_df.age[~np.isnan(FW_df.age)], 'logistic')\n",
    "p_Year_ad=scipy.stats.anderson(Year_df.age[~np.isnan(Year_df.age)], 'logistic')\n",
    "\n",
    "print \"Spring-Summer, Normal fit\", SS_ad[0]\n",
    "print \"Fall-Winter, Normal fit\", FW_ad[0]\n",
    "print \"Year, Normal fit\", Year_ad[0]\n",
    "\n",
    "print \"Spring-Summer, Logistic fit\", p_SS_ad[0]\n",
    "print \"Fall-Winter, Logistic fit\", p_FW_ad[0]\n",
    "print \"Year, Logistic fit\", p_Year_ad[0]"
   ]
  },
  {
   "cell_type": "markdown",
   "metadata": {
    "collapsed": true
   },
   "source": [
    "The high Anderson values lead to the rejection of the hypothesis that the citibike distribution follows either a Normal or Logistic distirbution. As the values are lower for the Logistic distribution, I would say that it is a slightly better fit than the Normal for the citibike distribution."
   ]
  }
 ],
 "metadata": {
  "kernelspec": {
   "display_name": "Python 2",
   "language": "python",
   "name": "python2"
  },
  "language_info": {
   "codemirror_mode": {
    "name": "ipython",
    "version": 2
   },
   "file_extension": ".py",
   "mimetype": "text/x-python",
   "name": "python",
   "nbconvert_exporter": "python",
   "pygments_lexer": "ipython2",
   "version": "2.7.10"
  }
 },
 "nbformat": 4,
 "nbformat_minor": 0
}
