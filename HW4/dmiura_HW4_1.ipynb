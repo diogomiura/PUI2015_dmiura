{
 "cells": [
  {
   "cell_type": "code",
   "execution_count": 1,
   "metadata": {
    "collapsed": false
   },
   "outputs": [
    {
     "name": "stdout",
     "output_type": "stream",
     "text": [
      "Populating the interactive namespace from numpy and matplotlib\n"
     ]
    }
   ],
   "source": [
    "#Importing packages\n",
    "\n",
    "import pandas as pd\n",
    "import numpy as np\n",
    "import pylab as pl\n",
    "%pylab inline\n",
    "import os\n",
    "import scipy.stats"
   ]
  },
  {
   "cell_type": "markdown",
   "metadata": {},
   "source": [
    "#Male vs. Female"
   ]
  },
  {
   "cell_type": "code",
   "execution_count": 11,
   "metadata": {
    "collapsed": false
   },
   "outputs": [],
   "source": [
    "# Loading file and separating genders\n",
    "\n",
    "df=pd.read_csv('~/Downloads/201508-citibike-tripdata.csv')\n",
    "\n",
    "df['ageM'] = 2015-df['birth year'][(df['usertype'] == 'Subscriber') & (df['gender'] == 1)]\n",
    "df['ageF'] = 2015-df['birth year'][(df['usertype'] == 'Subscriber') & (df['gender'] == 2)]"
   ]
  },
  {
   "cell_type": "markdown",
   "metadata": {},
   "source": [
    "#K-S Test: Male vs. Female"
   ]
  },
  {
   "cell_type": "code",
   "execution_count": 12,
   "metadata": {
    "collapsed": false
   },
   "outputs": [
    {
     "data": {
      "text/plain": [
       "Ks_2sampResult(statistic=0.091239723418848284, pvalue=0.0)"
      ]
     },
     "execution_count": 12,
     "metadata": {},
     "output_type": "execute_result"
    }
   ],
   "source": [
    "scipy.stats.ks_2samp(df.ageM[~np.isnan(df.ageM)], df.ageF[~np.isnan(df.ageF)])"
   ]
  },
  {
   "cell_type": "markdown",
   "metadata": {},
   "source": [
    "At a 5% alpha, we can reject the null hypothesis that the distribution of the two samples are the same, given pvalue=0.0. In other words, we can infer that the age distribution of male vs. female citbike users is not the same."
   ]
  },
  {
   "cell_type": "markdown",
   "metadata": {},
   "source": [
    "#Pearson's Test: Male vs. Female"
   ]
  },
  {
   "cell_type": "code",
   "execution_count": 23,
   "metadata": {
    "collapsed": false
   },
   "outputs": [
    {
     "name": "stdout",
     "output_type": "stream",
     "text": [
      "720722\n",
      "235991\n"
     ]
    }
   ],
   "source": [
    "#Checking the size of the arrays without \"Nan's\"\n",
    "\n",
    "print len(df.ageM[~np.isnan(df.ageM)])\n",
    "print len(df.ageF[~np.isnan(df.ageF)])"
   ]
  },
  {
   "cell_type": "code",
   "execution_count": 33,
   "metadata": {
    "collapsed": false
   },
   "outputs": [],
   "source": [
    "#Generating a random sample from df.AgeM that has the same size as df.ageF without \"Nan's\"\n",
    "\n",
    "df.ageM.adj = np.random.choice(df.ageM[~np.isnan(df.ageM)], len(df.ageF[~np.isnan(df.ageF)]), replace=False)"
   ]
  },
  {
   "cell_type": "code",
   "execution_count": 32,
   "metadata": {
    "collapsed": false
   },
   "outputs": [
    {
     "data": {
      "text/plain": [
       "(-0.0019280144931405744, 0.34896217225267179)"
      ]
     },
     "execution_count": 32,
     "metadata": {},
     "output_type": "execute_result"
    }
   ],
   "source": [
    "#Performing tests with adjusted arrays\n",
    "\n",
    "scipy.stats.pearsonr(df.ageM.adj, df.ageF[~np.isnan(df.ageF)])"
   ]
  },
  {
   "cell_type": "markdown",
   "metadata": {},
   "source": [
    "The Pearson coefficient close to 0 indicates that there is nearly no correlation between the two samples. Any indication of a significant correlation would, however, be weakened by the high p value of the test."
   ]
  },
  {
   "cell_type": "markdown",
   "metadata": {},
   "source": [
    "#Spearman's Test: Male vs. Female"
   ]
  },
  {
   "cell_type": "code",
   "execution_count": 38,
   "metadata": {
    "collapsed": false
   },
   "outputs": [
    {
     "data": {
      "text/plain": [
       "SpearmanrResult(correlation=-0.0051219931730812959, pvalue=0.012838741659554141)"
      ]
     },
     "execution_count": 38,
     "metadata": {},
     "output_type": "execute_result"
    }
   ],
   "source": [
    "#Performing tests with adjusted arrays\n",
    "\n",
    "scipy.stats.spearmanr(df.ageM.adj, df.ageF[~np.isnan(df.ageF)])"
   ]
  },
  {
   "cell_type": "markdown",
   "metadata": {},
   "source": [
    "The Spearman coefficient close to 0 indicates that there is nearly no correlation between the two samples. Any indication of a significant correlation would, however, be corroborated by the low p value of the test."
   ]
  },
  {
   "cell_type": "markdown",
   "metadata": {},
   "source": [
    "#Day vs. Night"
   ]
  },
  {
   "cell_type": "code",
   "execution_count": 41,
   "metadata": {
    "collapsed": false
   },
   "outputs": [],
   "source": [
    "#Separating population between Day and Night\n",
    "\n",
    "df['hour'] = pd.DatetimeIndex(df['starttime']).hour\n",
    "\n",
    "df['ageD'] = 2015-df['birth year'][(df['usertype'] == 'Subscriber') & (df['hour'] > 6) & (df['hour'] <= 18)]\n",
    "df['ageN'] = 2015-df['birth year'][(df['usertype'] == 'Subscriber') & (df['hour'] <= 6) | (df['hour'] > 18)]"
   ]
  },
  {
   "cell_type": "markdown",
   "metadata": {},
   "source": [
    "#K-S Test: Day vs. Night"
   ]
  },
  {
   "cell_type": "code",
   "execution_count": 42,
   "metadata": {
    "collapsed": false
   },
   "outputs": [
    {
     "data": {
      "text/plain": [
       "Ks_2sampResult(statistic=0.092326427583075188, pvalue=0.0)"
      ]
     },
     "execution_count": 42,
     "metadata": {},
     "output_type": "execute_result"
    }
   ],
   "source": [
    "scipy.stats.ks_2samp(df.ageD[~np.isnan(df.ageD)], df.ageN[~np.isnan(df.ageN)])"
   ]
  },
  {
   "cell_type": "markdown",
   "metadata": {},
   "source": [
    "At a 5% alpha, we can reject the null hypothesis that the distribution of the two samples are the same. In other words, we can infer that the age distribution of day vs. night citbike users is not the same."
   ]
  },
  {
   "cell_type": "markdown",
   "metadata": {},
   "source": [
    "#Pearson's Test: Day vs. Night"
   ]
  },
  {
   "cell_type": "code",
   "execution_count": 48,
   "metadata": {
    "collapsed": false
   },
   "outputs": [
    {
     "name": "stdout",
     "output_type": "stream",
     "text": [
      "714161\n",
      "243882\n"
     ]
    }
   ],
   "source": [
    "#Checking the size of the arrays without \"Nan's\"\n",
    "\n",
    "print len(df.ageD[~np.isnan(df.ageD)])\n",
    "print len(df.ageN[~np.isnan(df.ageN)])"
   ]
  },
  {
   "cell_type": "code",
   "execution_count": 49,
   "metadata": {
    "collapsed": true
   },
   "outputs": [],
   "source": [
    "#Generating a random sample from df.AgeD that has the same size as df.ageN without \"Nan's\"\n",
    "\n",
    "df.ageD.adj = np.random.choice(df.ageD[~np.isnan(df.ageD)], len(df.ageN[~np.isnan(df.ageN)]), replace=False)"
   ]
  },
  {
   "cell_type": "code",
   "execution_count": 50,
   "metadata": {
    "collapsed": false
   },
   "outputs": [
    {
     "data": {
      "text/plain": [
       "(-0.00013217493985792707, 0.94795625672944872)"
      ]
     },
     "execution_count": 50,
     "metadata": {},
     "output_type": "execute_result"
    }
   ],
   "source": [
    "#Performing tests with adjusted arrays\n",
    "\n",
    "scipy.stats.pearsonr(df.ageD.adj, df.ageN[~np.isnan(df.ageN)])"
   ]
  },
  {
   "cell_type": "markdown",
   "metadata": {},
   "source": [
    "The Pearson coefficient close to 0 indicates that there is nearly no correlation between the two samples. Any indication of a significant correlation would, however, be weakened by the high p value of the test."
   ]
  },
  {
   "cell_type": "markdown",
   "metadata": {},
   "source": [
    "#Spearman's Test: Day vs. Night"
   ]
  },
  {
   "cell_type": "code",
   "execution_count": 52,
   "metadata": {
    "collapsed": false
   },
   "outputs": [
    {
     "data": {
      "text/plain": [
       "SpearmanrResult(correlation=-0.00072193480377101137, pvalue=0.72145007919226156)"
      ]
     },
     "execution_count": 52,
     "metadata": {},
     "output_type": "execute_result"
    }
   ],
   "source": [
    "scipy.stats.spearmanr(df.ageD.adj, df.ageN[~np.isnan(df.ageN)])"
   ]
  },
  {
   "cell_type": "markdown",
   "metadata": {},
   "source": [
    "The Spearman's coefficient close to 0 indicates that there is nearly no correlation between the two samples. Any indication of a significant correlation would, however, be weakened by the high p value of the test."
   ]
  },
  {
   "cell_type": "code",
   "execution_count": null,
   "metadata": {
    "collapsed": true
   },
   "outputs": [],
   "source": []
  }
 ],
 "metadata": {
  "kernelspec": {
   "display_name": "Python 2",
   "language": "python",
   "name": "python2"
  },
  "language_info": {
   "codemirror_mode": {
    "name": "ipython",
    "version": 2
   },
   "file_extension": ".py",
   "mimetype": "text/x-python",
   "name": "python",
   "nbconvert_exporter": "python",
   "pygments_lexer": "ipython2",
   "version": "2.7.10"
  }
 },
 "nbformat": 4,
 "nbformat_minor": 0
}
