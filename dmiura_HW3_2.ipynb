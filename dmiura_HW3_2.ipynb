{
 "cells": [
  {
   "cell_type": "code",
   "execution_count": 3,
   "metadata": {
    "collapsed": true
   },
   "outputs": [],
   "source": [
    "import numpy as np"
   ]
  },
  {
   "cell_type": "code",
   "execution_count": 4,
   "metadata": {
    "collapsed": false
   },
   "outputs": [
    {
     "name": "stdout",
     "output_type": "stream",
     "text": [
      "0.272 409 564 0.0142657208499\n"
     ]
    }
   ],
   "source": [
    "#Z-test\n",
    "\n",
    "alpha=0.05\n",
    "\n",
    "#Converting to fractions\n",
    "P_0=27.2*0.01\n",
    "P_1=28.2*0.01\n",
    "\n",
    "n_0=409\n",
    "n_1=564\n",
    "\n",
    "#Getting the counts\n",
    "Nt_0=P_0*n_0\n",
    "Nt_1=P_1*n_1\n",
    "\n",
    "#Defining sample proportions\n",
    "sp=(P_0*n_0+P_1*n_1)/(n_1+n_0)\n",
    "\n",
    "#Calculating standard deviation\n",
    "sp_stdev = lambda p, n: np.sqrt(p*(1-p)/n)\n",
    "sp_stdev_3y=sp_stdev(P_0,n_0+n_1)\n",
    "print P_0, n_0, n_1, sp_stdev_3y"
   ]
  },
  {
   "cell_type": "code",
   "execution_count": 6,
   "metadata": {
    "collapsed": false
   },
   "outputs": [
    {
     "name": "stdout",
     "output_type": "stream",
     "text": [
      "0.700981051377\n"
     ]
    }
   ],
   "source": [
    "#Calculating Z-score\n",
    "zscore = lambda p0, p1, s : (p0-p1)/s\n",
    "z_3y = zscore(P_1, P_0, sp_stdev_3y)\n",
    "print z_3y"
   ]
  },
  {
   "cell_type": "code",
   "execution_count": 7,
   "metadata": {
    "collapsed": false
   },
   "outputs": [
    {
     "name": "stdout",
     "output_type": "stream",
     "text": [
      "is the p value 0.24 smaller than the critical value 0.05? \n",
      "NO!\n",
      "the Null hypothesis is not rejected\n"
     ]
    }
   ],
   "source": [
    "p_3y=1-0.7611\n",
    "\n",
    "def report_result(p,a):\n",
    "    print 'is the p value {0:.2f} smaller than the critical value {1:.2f}? '.format(p,a)\n",
    "    if p<a:\n",
    "        print \"YES!\"\n",
    "    else: print \"NO!\"\n",
    "    \n",
    "    print 'the Null hypothesis is {}'.format( 'rejected' if p<a  else 'not rejected') \n",
    "\n",
    "    \n",
    "report_result(p_3y,alpha)"
   ]
  },
  {
   "cell_type": "code",
   "execution_count": 1,
   "metadata": {
    "collapsed": false
   },
   "outputs": [
    {
     "name": "stdout",
     "output_type": "stream",
     "text": [
      "43.6078431373\n"
     ]
    }
   ],
   "source": [
    "#Chi-square\n",
    "\n",
    "Ntot = 973\n",
    "expected = 564*409*(14.7*5.64)*(11.9*4.09)\n",
    "sample_values = [[14.7*5.64,85.3*5.64],[11.9*4.09,88.1*4.09]]\n",
    " \n",
    "chisqstat= lambda N, values, expect : N*((values[0][0]*values[1][1]-values[0][1]*values[1][0])**2)/(expect)\n",
    "\n",
    "print chisqstat(Ntot,  sample_values, expected)"
   ]
  },
  {
   "cell_type": "code",
   "execution_count": null,
   "metadata": {
    "collapsed": true
   },
   "outputs": [],
   "source": [
    "#COMMENTS: 3.84 is mentioned in the example because that is the corresponding value in the Chi-square table to 1 degree\n",
    "#of freedom and an alpha of 0.05.\n",
    "#The statistic I calculated of 43.61 is still significantly higher than 3.84, leading to the rejection of the hypothesis\n",
    "#that the variables are independent."
   ]
  }
 ],
 "metadata": {
  "kernelspec": {
   "display_name": "Python 2",
   "language": "python",
   "name": "python2"
  },
  "language_info": {
   "codemirror_mode": {
    "name": "ipython",
    "version": 2
   },
   "file_extension": ".py",
   "mimetype": "text/x-python",
   "name": "python",
   "nbconvert_exporter": "python",
   "pygments_lexer": "ipython2",
   "version": "2.7.10"
  }
 },
 "nbformat": 4,
 "nbformat_minor": 0
}
